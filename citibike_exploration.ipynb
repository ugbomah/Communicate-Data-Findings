{
 "cells": [
  {
   "cell_type": "markdown",
   "metadata": {},
   "source": [
    "# 2022 CitiBike Ride Exploration and Visualization\n",
    "## by Ifeoma Ugbomah\n",
    "\n",
    "## Introduction\n",
    "[Citi Bike](https://en.wikipedia.org/wiki/Citi_Bike) is New York City’s bike share system, and the largest in the nation. Citi Bike launched in May 2013 and has become an essential part of transportation network. They make commute fun, efficient and affordable – not to mention healthy and good for the environment. Download 2022 in CSV format covering New York City area [here](https://www.citibikenyc.com/system-data)\n",
    "\n",
    ">**N.B**: The data used for this exploration is data from **`January`** to **`August`**.\n",
    "\n",
    "## Preliminary Wrangling\n"
   ]
  },
  {
   "cell_type": "code",
   "execution_count": 1,
   "metadata": {},
   "outputs": [],
   "source": [
    "# import all packages and set plots to be embedded inline\n",
    "import numpy as np\n",
    "import pandas as pd\n",
    "import matplotlib\n",
    "import matplotlib.pyplot as plt\n",
    "import seaborn as sns\n",
    "import glob\n",
    "import os\n",
    "\n",
    "%matplotlib inline\n",
    "matplotlib.rcParams['figure.figsize'] = (8,6) # Adjust the comfiguretion of the plots we will create."
   ]
  },
  {
   "cell_type": "markdown",
   "metadata": {},
   "source": [
    "## Gathering and Assessing Data"
   ]
  },
  {
   "cell_type": "code",
   "execution_count": 2,
   "metadata": {},
   "outputs": [],
   "source": [
    "# Get monthly CSV trip files from a folder and append data together\n",
    "folder_name = 'data'\n",
    "\n",
    "# Check if the file combined file exist and pass \n",
    "# else read the CSV files to append the data together\n",
    "if os.path.exists(\"citibike_trips_2022.csv\"):\n",
    "    pass\n",
    "else:\n",
    "    csv_files = glob.glob(os.path.join(folder_name, \"*.csv\"))\n",
    "    # Read each CSV file into DataFrame\n",
    "    # This creates a list of dataframes\n",
    "    trip_list = [pd.read_csv(file) for file in csv_files]\n",
    "    # Concatenate all DataFrames\n",
    "    full_trip   = pd.concat(trip_list, ignore_index=True)\n",
    "    \n",
    "    print(full_trip.shape)\n",
    "    full_trip.head()\n",
    "    \n",
    "    # save the appended data to a .csv file for further usage\n",
    "    full_trip.to_csv('citibike_trips_2022.csv', index=False)"
   ]
  },
  {
   "cell_type": "code",
   "execution_count": 3,
   "metadata": {},
   "outputs": [
    {
     "name": "stdout",
     "output_type": "stream",
     "text": [
      "(580386, 13)\n"
     ]
    },
    {
     "data": {
      "text/html": [
       "<div>\n",
       "<style scoped>\n",
       "    .dataframe tbody tr th:only-of-type {\n",
       "        vertical-align: middle;\n",
       "    }\n",
       "\n",
       "    .dataframe tbody tr th {\n",
       "        vertical-align: top;\n",
       "    }\n",
       "\n",
       "    .dataframe thead th {\n",
       "        text-align: right;\n",
       "    }\n",
       "</style>\n",
       "<table border=\"1\" class=\"dataframe\">\n",
       "  <thead>\n",
       "    <tr style=\"text-align: right;\">\n",
       "      <th></th>\n",
       "      <th>ride_id</th>\n",
       "      <th>rideable_type</th>\n",
       "      <th>started_at</th>\n",
       "      <th>ended_at</th>\n",
       "      <th>start_station_name</th>\n",
       "      <th>start_station_id</th>\n",
       "      <th>end_station_name</th>\n",
       "      <th>end_station_id</th>\n",
       "      <th>start_lat</th>\n",
       "      <th>start_lng</th>\n",
       "      <th>end_lat</th>\n",
       "      <th>end_lng</th>\n",
       "      <th>member_casual</th>\n",
       "    </tr>\n",
       "  </thead>\n",
       "  <tbody>\n",
       "    <tr>\n",
       "      <th>0</th>\n",
       "      <td>CA5837152804D4B5</td>\n",
       "      <td>electric_bike</td>\n",
       "      <td>2022-01-26 18:50:39</td>\n",
       "      <td>2022-01-26 18:51:53</td>\n",
       "      <td>12 St &amp; Sinatra Dr N</td>\n",
       "      <td>HB201</td>\n",
       "      <td>12 St &amp; Sinatra Dr N</td>\n",
       "      <td>HB201</td>\n",
       "      <td>40.750604</td>\n",
       "      <td>-74.024020</td>\n",
       "      <td>40.750604</td>\n",
       "      <td>-74.024020</td>\n",
       "      <td>member</td>\n",
       "    </tr>\n",
       "    <tr>\n",
       "      <th>1</th>\n",
       "      <td>BA06A5E45B6601D2</td>\n",
       "      <td>classic_bike</td>\n",
       "      <td>2022-01-28 13:14:07</td>\n",
       "      <td>2022-01-28 13:20:23</td>\n",
       "      <td>Essex Light Rail</td>\n",
       "      <td>JC038</td>\n",
       "      <td>Essex Light Rail</td>\n",
       "      <td>JC038</td>\n",
       "      <td>40.712774</td>\n",
       "      <td>-74.036486</td>\n",
       "      <td>40.712774</td>\n",
       "      <td>-74.036486</td>\n",
       "      <td>member</td>\n",
       "    </tr>\n",
       "    <tr>\n",
       "      <th>2</th>\n",
       "      <td>7B6827D7B9508D93</td>\n",
       "      <td>classic_bike</td>\n",
       "      <td>2022-01-10 19:55:13</td>\n",
       "      <td>2022-01-10 20:00:37</td>\n",
       "      <td>Essex Light Rail</td>\n",
       "      <td>JC038</td>\n",
       "      <td>Essex Light Rail</td>\n",
       "      <td>JC038</td>\n",
       "      <td>40.712774</td>\n",
       "      <td>-74.036486</td>\n",
       "      <td>40.712774</td>\n",
       "      <td>-74.036486</td>\n",
       "      <td>member</td>\n",
       "    </tr>\n",
       "    <tr>\n",
       "      <th>3</th>\n",
       "      <td>6E5864EA6FCEC90D</td>\n",
       "      <td>electric_bike</td>\n",
       "      <td>2022-01-26 07:54:57</td>\n",
       "      <td>2022-01-26 07:55:22</td>\n",
       "      <td>12 St &amp; Sinatra Dr N</td>\n",
       "      <td>HB201</td>\n",
       "      <td>12 St &amp; Sinatra Dr N</td>\n",
       "      <td>HB201</td>\n",
       "      <td>40.750604</td>\n",
       "      <td>-74.024020</td>\n",
       "      <td>40.750604</td>\n",
       "      <td>-74.024020</td>\n",
       "      <td>member</td>\n",
       "    </tr>\n",
       "    <tr>\n",
       "      <th>4</th>\n",
       "      <td>E24954255BBDE32D</td>\n",
       "      <td>electric_bike</td>\n",
       "      <td>2022-01-13 18:44:46</td>\n",
       "      <td>2022-01-13 18:45:43</td>\n",
       "      <td>12 St &amp; Sinatra Dr N</td>\n",
       "      <td>HB201</td>\n",
       "      <td>12 St &amp; Sinatra Dr N</td>\n",
       "      <td>HB201</td>\n",
       "      <td>40.750604</td>\n",
       "      <td>-74.024020</td>\n",
       "      <td>40.750604</td>\n",
       "      <td>-74.024020</td>\n",
       "      <td>member</td>\n",
       "    </tr>\n",
       "  </tbody>\n",
       "</table>\n",
       "</div>"
      ],
      "text/plain": [
       "            ride_id  rideable_type           started_at             ended_at  \\\n",
       "0  CA5837152804D4B5  electric_bike  2022-01-26 18:50:39  2022-01-26 18:51:53   \n",
       "1  BA06A5E45B6601D2   classic_bike  2022-01-28 13:14:07  2022-01-28 13:20:23   \n",
       "2  7B6827D7B9508D93   classic_bike  2022-01-10 19:55:13  2022-01-10 20:00:37   \n",
       "3  6E5864EA6FCEC90D  electric_bike  2022-01-26 07:54:57  2022-01-26 07:55:22   \n",
       "4  E24954255BBDE32D  electric_bike  2022-01-13 18:44:46  2022-01-13 18:45:43   \n",
       "\n",
       "     start_station_name start_station_id      end_station_name end_station_id  \\\n",
       "0  12 St & Sinatra Dr N            HB201  12 St & Sinatra Dr N          HB201   \n",
       "1      Essex Light Rail            JC038      Essex Light Rail          JC038   \n",
       "2      Essex Light Rail            JC038      Essex Light Rail          JC038   \n",
       "3  12 St & Sinatra Dr N            HB201  12 St & Sinatra Dr N          HB201   \n",
       "4  12 St & Sinatra Dr N            HB201  12 St & Sinatra Dr N          HB201   \n",
       "\n",
       "   start_lat  start_lng    end_lat    end_lng member_casual  \n",
       "0  40.750604 -74.024020  40.750604 -74.024020        member  \n",
       "1  40.712774 -74.036486  40.712774 -74.036486        member  \n",
       "2  40.712774 -74.036486  40.712774 -74.036486        member  \n",
       "3  40.750604 -74.024020  40.750604 -74.024020        member  \n",
       "4  40.750604 -74.024020  40.750604 -74.024020        member  "
      ]
     },
     "execution_count": 3,
     "metadata": {},
     "output_type": "execute_result"
    }
   ],
   "source": [
    "biketrips22 = pd.read_csv('citibike_trips_2022.csv')\n",
    "print(biketrips22.shape)\n",
    "biketrips22.head()"
   ]
  },
  {
   "cell_type": "code",
   "execution_count": 4,
   "metadata": {},
   "outputs": [
    {
     "name": "stdout",
     "output_type": "stream",
     "text": [
      "<class 'pandas.core.frame.DataFrame'>\n",
      "RangeIndex: 580386 entries, 0 to 580385\n",
      "Data columns (total 13 columns):\n",
      " #   Column              Non-Null Count   Dtype  \n",
      "---  ------              --------------   -----  \n",
      " 0   ride_id             580386 non-null  object \n",
      " 1   rideable_type       580386 non-null  object \n",
      " 2   started_at          580386 non-null  object \n",
      " 3   ended_at            580386 non-null  object \n",
      " 4   start_station_name  580386 non-null  object \n",
      " 5   start_station_id    580386 non-null  object \n",
      " 6   end_station_name    578377 non-null  object \n",
      " 7   end_station_id      578377 non-null  object \n",
      " 8   start_lat           580386 non-null  float64\n",
      " 9   start_lng           580386 non-null  float64\n",
      " 10  end_lat             578923 non-null  float64\n",
      " 11  end_lng             578923 non-null  float64\n",
      " 12  member_casual       580386 non-null  object \n",
      "dtypes: float64(4), object(9)\n",
      "memory usage: 57.6+ MB\n"
     ]
    }
   ],
   "source": [
    "biketrips22.info()"
   ]
  },
  {
   "cell_type": "code",
   "execution_count": 5,
   "metadata": {},
   "outputs": [
    {
     "data": {
      "text/plain": [
       "ride_id                  0\n",
       "rideable_type            0\n",
       "started_at               0\n",
       "ended_at                 0\n",
       "start_station_name       0\n",
       "start_station_id         0\n",
       "end_station_name      2009\n",
       "end_station_id        2009\n",
       "start_lat                0\n",
       "start_lng                0\n",
       "end_lat               1463\n",
       "end_lng               1463\n",
       "member_casual            0\n",
       "dtype: int64"
      ]
     },
     "execution_count": 5,
     "metadata": {},
     "output_type": "execute_result"
    }
   ],
   "source": [
    "# check for null values\n",
    "biketrips22.isna().sum()"
   ]
  },
  {
   "cell_type": "code",
   "execution_count": 6,
   "metadata": {},
   "outputs": [
    {
     "data": {
      "text/plain": [
       "0"
      ]
     },
     "execution_count": 6,
     "metadata": {},
     "output_type": "execute_result"
    }
   ],
   "source": [
    "biketrips22.duplicated().sum()"
   ]
  },
  {
   "cell_type": "markdown",
   "metadata": {},
   "source": [
    "There are no duplicates in the data"
   ]
  },
  {
   "cell_type": "code",
   "execution_count": 7,
   "metadata": {},
   "outputs": [
    {
     "data": {
      "text/plain": [
       "classic_bike     383475\n",
       "electric_bike    190724\n",
       "docked_bike        6187\n",
       "Name: rideable_type, dtype: int64"
      ]
     },
     "execution_count": 7,
     "metadata": {},
     "output_type": "execute_result"
    }
   ],
   "source": [
    "biketrips22.rideable_type.value_counts()"
   ]
  },
  {
   "cell_type": "code",
   "execution_count": 8,
   "metadata": {},
   "outputs": [
    {
     "data": {
      "text/plain": [
       "member    371329\n",
       "casual    209057\n",
       "Name: member_casual, dtype: int64"
      ]
     },
     "execution_count": 8,
     "metadata": {},
     "output_type": "execute_result"
    }
   ],
   "source": [
    "biketrips22.member_casual.value_counts()"
   ]
  },
  {
   "cell_type": "markdown",
   "metadata": {},
   "source": [
    "## Issues\n",
    "\n",
    "1. started_at and ended_at not in correct format.\n",
    "2. Missing values end_station_id and end_station_name, and end_lat and end_lng.\n",
    "3. Drop unnecessary columns(ride_id, start_station_id, end_station_id)\n",
    "4. Create a trip duration column from started_at and ended_at.\n",
    "5. Create trip start date, trip start hour of the day, day of the week and month"
   ]
  },
  {
   "cell_type": "markdown",
   "metadata": {},
   "source": [
    "## Cleaning Data"
   ]
  },
  {
   "cell_type": "code",
   "execution_count": 9,
   "metadata": {},
   "outputs": [],
   "source": [
    "# make a copy of the datframe\n",
    "trips22 = biketrips22.copy()"
   ]
  },
  {
   "cell_type": "markdown",
   "metadata": {},
   "source": [
    "#### issue 1: Change started_at and ended_at to datetime format."
   ]
  },
  {
   "cell_type": "code",
   "execution_count": 10,
   "metadata": {},
   "outputs": [
    {
     "name": "stdout",
     "output_type": "stream",
     "text": [
      "<class 'pandas.core.frame.DataFrame'>\n",
      "RangeIndex: 580386 entries, 0 to 580385\n",
      "Data columns (total 13 columns):\n",
      " #   Column              Non-Null Count   Dtype         \n",
      "---  ------              --------------   -----         \n",
      " 0   ride_id             580386 non-null  object        \n",
      " 1   rideable_type       580386 non-null  object        \n",
      " 2   started_at          580386 non-null  datetime64[ns]\n",
      " 3   ended_at            580386 non-null  datetime64[ns]\n",
      " 4   start_station_name  580386 non-null  object        \n",
      " 5   start_station_id    580386 non-null  object        \n",
      " 6   end_station_name    578377 non-null  object        \n",
      " 7   end_station_id      578377 non-null  object        \n",
      " 8   start_lat           580386 non-null  float64       \n",
      " 9   start_lng           580386 non-null  float64       \n",
      " 10  end_lat             578923 non-null  float64       \n",
      " 11  end_lng             578923 non-null  float64       \n",
      " 12  member_casual       580386 non-null  object        \n",
      "dtypes: datetime64[ns](2), float64(4), object(7)\n",
      "memory usage: 57.6+ MB\n"
     ]
    }
   ],
   "source": [
    "trips22['started_at'] = pd.to_datetime(trips22['started_at'])\n",
    "trips22['ended_at'] = pd.to_datetime(trips22['ended_at'])\n",
    "\n",
    "trips22.info()"
   ]
  },
  {
   "cell_type": "markdown",
   "metadata": {},
   "source": [
    "#### issue 2: drop missing values in end_station_id and end_station_name, and end_lat and end_lng."
   ]
  },
  {
   "cell_type": "code",
   "execution_count": 11,
   "metadata": {},
   "outputs": [
    {
     "name": "stdout",
     "output_type": "stream",
     "text": [
      "<class 'pandas.core.frame.DataFrame'>\n",
      "Int64Index: 578377 entries, 0 to 580385\n",
      "Data columns (total 13 columns):\n",
      " #   Column              Non-Null Count   Dtype         \n",
      "---  ------              --------------   -----         \n",
      " 0   ride_id             578377 non-null  object        \n",
      " 1   rideable_type       578377 non-null  object        \n",
      " 2   started_at          578377 non-null  datetime64[ns]\n",
      " 3   ended_at            578377 non-null  datetime64[ns]\n",
      " 4   start_station_name  578377 non-null  object        \n",
      " 5   start_station_id    578377 non-null  object        \n",
      " 6   end_station_name    578377 non-null  object        \n",
      " 7   end_station_id      578377 non-null  object        \n",
      " 8   start_lat           578377 non-null  float64       \n",
      " 9   start_lng           578377 non-null  float64       \n",
      " 10  end_lat             578377 non-null  float64       \n",
      " 11  end_lng             578377 non-null  float64       \n",
      " 12  member_casual       578377 non-null  object        \n",
      "dtypes: datetime64[ns](2), float64(4), object(7)\n",
      "memory usage: 61.8+ MB\n"
     ]
    }
   ],
   "source": [
    "trips22 = trips22.dropna(axis=0)\n",
    "trips22.info()"
   ]
  },
  {
   "cell_type": "markdown",
   "metadata": {},
   "source": [
    "#### issue 3: Drop unnecessary columns(ride_id, start_station_id, end_station_id)"
   ]
  },
  {
   "cell_type": "code",
   "execution_count": 12,
   "metadata": {},
   "outputs": [
    {
     "data": {
      "text/plain": [
       "Index(['rideable_type', 'started_at', 'ended_at', 'start_station_name',\n",
       "       'end_station_name', 'start_lat', 'start_lng', 'end_lat', 'end_lng',\n",
       "       'member_casual'],\n",
       "      dtype='object')"
      ]
     },
     "execution_count": 12,
     "metadata": {},
     "output_type": "execute_result"
    }
   ],
   "source": [
    "trips22 = trips22.drop(columns = ['ride_id', 'start_station_id', 'end_station_id'])\n",
    "trips22.columns"
   ]
  },
  {
   "cell_type": "code",
   "execution_count": 13,
   "metadata": {},
   "outputs": [
    {
     "data": {
      "text/html": [
       "<div>\n",
       "<style scoped>\n",
       "    .dataframe tbody tr th:only-of-type {\n",
       "        vertical-align: middle;\n",
       "    }\n",
       "\n",
       "    .dataframe tbody tr th {\n",
       "        vertical-align: top;\n",
       "    }\n",
       "\n",
       "    .dataframe thead th {\n",
       "        text-align: right;\n",
       "    }\n",
       "</style>\n",
       "<table border=\"1\" class=\"dataframe\">\n",
       "  <thead>\n",
       "    <tr style=\"text-align: right;\">\n",
       "      <th></th>\n",
       "      <th>rideable_type</th>\n",
       "      <th>started_at</th>\n",
       "      <th>ended_at</th>\n",
       "      <th>start_station_name</th>\n",
       "      <th>end_station_name</th>\n",
       "      <th>start_lat</th>\n",
       "      <th>start_lng</th>\n",
       "      <th>end_lat</th>\n",
       "      <th>end_lng</th>\n",
       "      <th>member_casual</th>\n",
       "      <th>duration_minute</th>\n",
       "    </tr>\n",
       "  </thead>\n",
       "  <tbody>\n",
       "    <tr>\n",
       "      <th>134339</th>\n",
       "      <td>classic_bike</td>\n",
       "      <td>2022-04-04 17:59:41</td>\n",
       "      <td>2022-04-04 18:07:45</td>\n",
       "      <td>City Hall</td>\n",
       "      <td>Liberty Light Rail</td>\n",
       "      <td>40.717732</td>\n",
       "      <td>-74.043845</td>\n",
       "      <td>40.711242</td>\n",
       "      <td>-74.055701</td>\n",
       "      <td>member</td>\n",
       "      <td>8</td>\n",
       "    </tr>\n",
       "    <tr>\n",
       "      <th>557892</th>\n",
       "      <td>classic_bike</td>\n",
       "      <td>2022-08-10 07:59:34</td>\n",
       "      <td>2022-08-10 08:17:54</td>\n",
       "      <td>Communipaw &amp; Berry Lane</td>\n",
       "      <td>Columbus Dr at Exchange Pl</td>\n",
       "      <td>40.714358</td>\n",
       "      <td>-74.066611</td>\n",
       "      <td>40.716870</td>\n",
       "      <td>-74.032810</td>\n",
       "      <td>member</td>\n",
       "      <td>18</td>\n",
       "    </tr>\n",
       "    <tr>\n",
       "      <th>193552</th>\n",
       "      <td>classic_bike</td>\n",
       "      <td>2022-05-14 08:18:19</td>\n",
       "      <td>2022-05-14 08:26:57</td>\n",
       "      <td>Columbus Park - Clinton St &amp; 9 St</td>\n",
       "      <td>City Hall - Washington St &amp; 1 St</td>\n",
       "      <td>40.748161</td>\n",
       "      <td>-74.032453</td>\n",
       "      <td>40.737360</td>\n",
       "      <td>-74.030970</td>\n",
       "      <td>casual</td>\n",
       "      <td>8</td>\n",
       "    </tr>\n",
       "    <tr>\n",
       "      <th>376952</th>\n",
       "      <td>classic_bike</td>\n",
       "      <td>2022-07-15 10:15:15</td>\n",
       "      <td>2022-07-15 10:21:13</td>\n",
       "      <td>Columbus Park - Clinton St &amp; 9 St</td>\n",
       "      <td>Clinton St &amp; Newark St</td>\n",
       "      <td>40.748161</td>\n",
       "      <td>-74.032453</td>\n",
       "      <td>40.737430</td>\n",
       "      <td>-74.035710</td>\n",
       "      <td>member</td>\n",
       "      <td>5</td>\n",
       "    </tr>\n",
       "    <tr>\n",
       "      <th>456317</th>\n",
       "      <td>electric_bike</td>\n",
       "      <td>2022-07-18 20:45:50</td>\n",
       "      <td>2022-07-18 21:36:18</td>\n",
       "      <td>Hilltop</td>\n",
       "      <td>Bergen Ave &amp; Sip Ave</td>\n",
       "      <td>40.731169</td>\n",
       "      <td>-74.057574</td>\n",
       "      <td>40.731009</td>\n",
       "      <td>-74.064437</td>\n",
       "      <td>member</td>\n",
       "      <td>50</td>\n",
       "    </tr>\n",
       "  </tbody>\n",
       "</table>\n",
       "</div>"
      ],
      "text/plain": [
       "        rideable_type          started_at            ended_at  \\\n",
       "134339   classic_bike 2022-04-04 17:59:41 2022-04-04 18:07:45   \n",
       "557892   classic_bike 2022-08-10 07:59:34 2022-08-10 08:17:54   \n",
       "193552   classic_bike 2022-05-14 08:18:19 2022-05-14 08:26:57   \n",
       "376952   classic_bike 2022-07-15 10:15:15 2022-07-15 10:21:13   \n",
       "456317  electric_bike 2022-07-18 20:45:50 2022-07-18 21:36:18   \n",
       "\n",
       "                       start_station_name                  end_station_name  \\\n",
       "134339                          City Hall                Liberty Light Rail   \n",
       "557892            Communipaw & Berry Lane        Columbus Dr at Exchange Pl   \n",
       "193552  Columbus Park - Clinton St & 9 St  City Hall - Washington St & 1 St   \n",
       "376952  Columbus Park - Clinton St & 9 St            Clinton St & Newark St   \n",
       "456317                            Hilltop              Bergen Ave & Sip Ave   \n",
       "\n",
       "        start_lat  start_lng    end_lat    end_lng member_casual  \\\n",
       "134339  40.717732 -74.043845  40.711242 -74.055701        member   \n",
       "557892  40.714358 -74.066611  40.716870 -74.032810        member   \n",
       "193552  40.748161 -74.032453  40.737360 -74.030970        casual   \n",
       "376952  40.748161 -74.032453  40.737430 -74.035710        member   \n",
       "456317  40.731169 -74.057574  40.731009 -74.064437        member   \n",
       "\n",
       "        duration_minute  \n",
       "134339                8  \n",
       "557892               18  \n",
       "193552                8  \n",
       "376952                5  \n",
       "456317               50  "
      ]
     },
     "execution_count": 13,
     "metadata": {},
     "output_type": "execute_result"
    }
   ],
   "source": [
    "# issue 4: Create a trip duration column from started_at and ended_at.\n",
    "trips22['duration_minute'] = trips22['ended_at'] - trips22['started_at']\n",
    "trips22['duration_minute'] = trips22['duration_minute'].dt.components.minutes\n",
    "trips22.sample(5)"
   ]
  },
  {
   "cell_type": "markdown",
   "metadata": {},
   "source": [
    "#### issue 5: Create trip start date, trip start hour of the day, day of the week and month"
   ]
  },
  {
   "cell_type": "code",
   "execution_count": 14,
   "metadata": {},
   "outputs": [
    {
     "data": {
      "text/html": [
       "<div>\n",
       "<style scoped>\n",
       "    .dataframe tbody tr th:only-of-type {\n",
       "        vertical-align: middle;\n",
       "    }\n",
       "\n",
       "    .dataframe tbody tr th {\n",
       "        vertical-align: top;\n",
       "    }\n",
       "\n",
       "    .dataframe thead th {\n",
       "        text-align: right;\n",
       "    }\n",
       "</style>\n",
       "<table border=\"1\" class=\"dataframe\">\n",
       "  <thead>\n",
       "    <tr style=\"text-align: right;\">\n",
       "      <th></th>\n",
       "      <th>rideable_type</th>\n",
       "      <th>started_at</th>\n",
       "      <th>ended_at</th>\n",
       "      <th>start_station_name</th>\n",
       "      <th>end_station_name</th>\n",
       "      <th>start_lat</th>\n",
       "      <th>start_lng</th>\n",
       "      <th>end_lat</th>\n",
       "      <th>end_lng</th>\n",
       "      <th>member_casual</th>\n",
       "      <th>duration_minute</th>\n",
       "      <th>start_date</th>\n",
       "      <th>start_hourofday</th>\n",
       "      <th>start_dayofweek</th>\n",
       "      <th>start_month</th>\n",
       "    </tr>\n",
       "  </thead>\n",
       "  <tbody>\n",
       "    <tr>\n",
       "      <th>522076</th>\n",
       "      <td>electric_bike</td>\n",
       "      <td>2022-08-30 15:25:07</td>\n",
       "      <td>2022-08-30 15:31:18</td>\n",
       "      <td>Grove St PATH</td>\n",
       "      <td>Baldwin at Montgomery</td>\n",
       "      <td>40.719586</td>\n",
       "      <td>-74.043117</td>\n",
       "      <td>40.723659</td>\n",
       "      <td>-74.064194</td>\n",
       "      <td>casual</td>\n",
       "      <td>6</td>\n",
       "      <td>2022-08-30</td>\n",
       "      <td>15</td>\n",
       "      <td>Tuesday</td>\n",
       "      <td>August</td>\n",
       "    </tr>\n",
       "    <tr>\n",
       "      <th>506519</th>\n",
       "      <td>electric_bike</td>\n",
       "      <td>2022-08-03 15:26:28</td>\n",
       "      <td>2022-08-03 16:04:01</td>\n",
       "      <td>Bergen Ave</td>\n",
       "      <td>Grove St PATH</td>\n",
       "      <td>40.722104</td>\n",
       "      <td>-74.071455</td>\n",
       "      <td>40.719586</td>\n",
       "      <td>-74.043117</td>\n",
       "      <td>casual</td>\n",
       "      <td>37</td>\n",
       "      <td>2022-08-03</td>\n",
       "      <td>15</td>\n",
       "      <td>Wednesday</td>\n",
       "      <td>August</td>\n",
       "    </tr>\n",
       "    <tr>\n",
       "      <th>376976</th>\n",
       "      <td>classic_bike</td>\n",
       "      <td>2022-07-13 08:18:35</td>\n",
       "      <td>2022-07-13 08:21:06</td>\n",
       "      <td>Hoboken Terminal - Hudson St &amp; Hudson Pl</td>\n",
       "      <td>Clinton St &amp; Newark St</td>\n",
       "      <td>40.735938</td>\n",
       "      <td>-74.030305</td>\n",
       "      <td>40.737430</td>\n",
       "      <td>-74.035710</td>\n",
       "      <td>member</td>\n",
       "      <td>2</td>\n",
       "      <td>2022-07-13</td>\n",
       "      <td>8</td>\n",
       "      <td>Wednesday</td>\n",
       "      <td>July</td>\n",
       "    </tr>\n",
       "  </tbody>\n",
       "</table>\n",
       "</div>"
      ],
      "text/plain": [
       "        rideable_type          started_at            ended_at  \\\n",
       "522076  electric_bike 2022-08-30 15:25:07 2022-08-30 15:31:18   \n",
       "506519  electric_bike 2022-08-03 15:26:28 2022-08-03 16:04:01   \n",
       "376976   classic_bike 2022-07-13 08:18:35 2022-07-13 08:21:06   \n",
       "\n",
       "                              start_station_name        end_station_name  \\\n",
       "522076                             Grove St PATH   Baldwin at Montgomery   \n",
       "506519                                Bergen Ave           Grove St PATH   \n",
       "376976  Hoboken Terminal - Hudson St & Hudson Pl  Clinton St & Newark St   \n",
       "\n",
       "        start_lat  start_lng    end_lat    end_lng member_casual  \\\n",
       "522076  40.719586 -74.043117  40.723659 -74.064194        casual   \n",
       "506519  40.722104 -74.071455  40.719586 -74.043117        casual   \n",
       "376976  40.735938 -74.030305  40.737430 -74.035710        member   \n",
       "\n",
       "        duration_minute  start_date  start_hourofday start_dayofweek  \\\n",
       "522076                6  2022-08-30               15         Tuesday   \n",
       "506519               37  2022-08-03               15       Wednesday   \n",
       "376976                2  2022-07-13                8       Wednesday   \n",
       "\n",
       "       start_month  \n",
       "522076      August  \n",
       "506519      August  \n",
       "376976        July  "
      ]
     },
     "execution_count": 14,
     "metadata": {},
     "output_type": "execute_result"
    }
   ],
   "source": [
    "trips22['start_date'] = trips22['started_at'].dt.date\n",
    "trips22['start_hourofday'] = trips22['started_at'].dt.hour\n",
    "trips22['start_dayofweek'] = trips22['started_at'].dt.day_name()\n",
    "trips22['start_month'] = trips22['started_at'].dt.month_name()\n",
    "\n",
    "trips22.sample(3)"
   ]
  },
  {
   "cell_type": "markdown",
   "metadata": {},
   "source": [
    "### What is the structure of your dataset?\n",
    "\n",
    "The original combined data contains data from January to August which is approximately 580,000 individual trip records with 13 variables collected. The variables can be divided into 3 categories:\n",
    "* trip duration: `started_at`, and `ended_at`.\n",
    "* station info: `start_station_name`, `start_station_id`, `end_station_name`, `end_station_id`, `start_lat`, `start_lng`, > `end_lat`, `end_lng`.\n",
    "* member info: `member_casual`, `rideable_type`, and `ride_id`\n",
    "\n",
    "Derived features/variables to assist exploration and analysis:\n",
    "* trip info: `duration_minute`, `start_date`, `start_hourofday`, `start_dayofweek`, `start_month`.\n",
    "\n",
    "\n",
    "### What is/are the main feature(s) of interest in your dataset?\n",
    "\n",
    "I'm interested in exploring the bike trips' duration and rental events occurrance patterns, along with how these relate to the riders' characteristics, i.e user type(member or casual) to get a sense of how and what people are using the bike sharing services for. Sample questions to answer: When are most trips taken in term of time of day, day od week, or month of the year? How long does average trip take? Does the above depend on if a user is a casual or member user type?\n",
    "\n",
    "### What features in the dataset do you think will help support your investigation into your feature(s) of interest?\n",
    "\n",
    "Each trips' start date/time and duration information will help understand how long a trip usually takes and when. The member information user type(casual or member) will help us find out which group of the user type(member or casual) utilizes the services more, use the different groups to summarize bike usage data to see if there is any special pattern associated with the specific groups of riders."
   ]
  },
  {
   "cell_type": "markdown",
   "metadata": {},
   "source": [
    "## Univariate Exploration\n",
    "\n"
   ]
  },
  {
   "cell_type": "markdown",
   "metadata": {},
   "source": [
    "A series of plots to first explore the trips distribution over hour of the day, day of the week, and month of the year."
   ]
  },
  {
   "cell_type": "code",
   "execution_count": 15,
   "metadata": {},
   "outputs": [
    {
     "data": {
      "image/png": "[encoded data removed]",
      "text/plain": [
       "<Figure size 576x432 with 1 Axes>"
      ]
     },
     "metadata": {
      "needs_background": "light"
     },
     "output_type": "display_data"
    }
   ],
   "source": [
    "# trip distribution over day hours\n",
    "\n",
    "base_color = sns.color_palette()[3]\n",
    "sns.countplot(data=trips22, x='start_hourofday', color=base_color)\n",
    "plt.xlabel('Trip Start Hour of Day')\n",
    "plt.ylabel('Count');"
   ]
  },
  {
   "cell_type": "code",
   "execution_count": 16,
   "metadata": {},
   "outputs": [
    {
     "data": {
      "image/png": "[encoded data removed]",
      "text/plain": [
       "<Figure size 576x432 with 1 Axes>"
      ]
     },
     "metadata": {
      "needs_background": "light"
     },
     "output_type": "display_data"
    }
   ],
   "source": [
    "# trip distribution over weekdays\n",
    "# change the start_dayofweek to categorical datatype\n",
    "weekday = ['Monday', 'Tuesday', 'Wednesday', 'Thursday', 'Friday', 'Saturday', 'Sunday']\n",
    "weekdaycat = pd.api.types.CategoricalDtype(ordered=True, categories=weekday)\n",
    "trips22['start_dayofweek'] = trips22['start_dayofweek'].astype(weekdaycat)\n",
    "\n",
    "sns.countplot(data=trips22, x='start_dayofweek', color=base_color)\n",
    "plt.xlabel('Trip Start Day of Week')\n",
    "plt.ylabel('Count');"
   ]
  },
  {
   "cell_type": "code",
   "execution_count": 17,
   "metadata": {},
   "outputs": [
    {
     "data": {
      "image/png": "[encoded data removed]",
      "text/plain": [
       "<Figure size 576x432 with 1 Axes>"
      ]
     },
     "metadata": {
      "needs_background": "light"
     },
     "output_type": "display_data"
    }
   ],
   "source": [
    "# trip distribution over months\n",
    "# change the start_month to categorical datatype\n",
    "month = ['January', 'February', 'March', 'April', 'May', 'June', 'July', 'August']\n",
    "monthcat = pd.api.types.CategoricalDtype(ordered=True, categories=month)\n",
    "trips22['start_month'] = trips22['start_month'].astype(monthcat)\n",
    "\n",
    "sns.countplot(data=trips22, x='start_month', color=base_color)\n",
    "plt.xlabel('Count')\n",
    "plt.ylabel('Trip Start Month');"
   ]
  },
  {
   "cell_type": "markdown",
   "metadata": {},
   "source": [
    "The trip distribution over day hours is unimodel and peak around 17pm-19pm, during typical rush hours. Looking in combined with the distribution over day of week plot. With slight differnece, Saturday having the higest value with 86873 usage and Monday with least usage of 75751. For the 2022, between January to August, the ride service usage increases with month.\n",
    "\n",
    "**N.B**: The data used for this exploration is data from **`January`** to **`August`**."
   ]
  },
  {
   "cell_type": "markdown",
   "metadata": {},
   "source": [
    "The next several plots are around user type(member or casual) and ride type(rideable_type) to have a sense of the typical user of the service."
   ]
  },
  {
   "cell_type": "code",
   "execution_count": 18,
   "metadata": {},
   "outputs": [
    {
     "data": {
      "image/png": "[encoded data removed]",
      "text/plain": [
       "<Figure size 576x432 with 1 Axes>"
      ]
     },
     "metadata": {
      "needs_background": "light"
     },
     "output_type": "display_data"
    }
   ],
   "source": [
    "sns.countplot(data=trips22, x='member_casual', color=base_color)\n",
    "plt.xlabel('User Type')\n",
    "plt.ylabel('Count');"
   ]
  },
  {
   "cell_type": "code",
   "execution_count": 19,
   "metadata": {},
   "outputs": [
    {
     "data": {
      "image/png": "[encoded data removed]",
      "text/plain": [
       "<Figure size 576x432 with 1 Axes>"
      ]
     },
     "metadata": {
      "needs_background": "light"
     },
     "output_type": "display_data"
    }
   ],
   "source": [
    "sns.countplot(data=trips22, x='rideable_type', color=base_color)\n",
    "plt.xlabel('Ride Type')\n",
    "plt.ylabel('Count');"
   ]
  },
  {
   "cell_type": "markdown",
   "metadata": {},
   "source": [
    "Most riders are members and ride type are classic bike."
   ]
  },
  {
   "cell_type": "markdown",
   "metadata": {},
   "source": [
    "Trip duration distribution plot next"
   ]
  },
  {
   "cell_type": "code",
   "execution_count": 20,
   "metadata": {},
   "outputs": [
    {
     "data": {
      "image/png": "[encoded data removed]",
      "text/plain": [
       "<Figure size 576x432 with 1 Axes>"
      ]
     },
     "metadata": {
      "needs_background": "light"
     },
     "output_type": "display_data"
    }
   ],
   "source": [
    "bins = np.arange(0, trips22['duration_minute'].max()+1, 1)\n",
    "plt.hist(data=trips22, x='duration_minute', bins=bins, color=base_color)\n",
    "plt.xlabel('Triip Duration in Minute')\n",
    "ticks = np.arange(0, trips22['duration_minute'].max()+5, 5)\n",
    "plt.xticks(ticks, ticks);"
   ]
  },
  {
   "cell_type": "markdown",
   "metadata": {},
   "source": [
    "The trip distribution is right skewed with majority of the trips less than 1 hours within 4 to 7 minutes."
   ]
  },
  {
   "cell_type": "markdown",
   "metadata": {},
   "source": [
    "### Discuss the distribution(s) of your variable(s) of interest. Were there any unusual points? Did you need to perform any transformations?\n",
    "\n",
    "The number of trips peaked around 17-19pm with saturday slightly higher than other days with a value of 86873. For the 2022, between January to August, the ride service usage increases with month.\n",
    "\n",
    "Most riders are members and ride type are classic bike.\n",
    "\n",
    "Most rides were quick and short, lasted between 4 to 7 minutes.\n",
    "\n",
    "There was no unusual points and no transformation was also needed due to straightforwardness of the data.\n",
    "\n",
    ">**N.B**: The data used for this exploration is data from **`January`** to **`August`**.\n",
    "\n",
    "\n",
    "\n",
    "### Of the features you investigated, were there any unusual distributions? Did you perform any operations on the data to tidy, adjust, or change the form of the data? If so, why did you do this?\n",
    "\n",
    "The trips duration was extracted from the started_at and ended_at features. The start_date, start_hourofday, start_dayofweek, start_month was also gotten from started_at feature."
   ]
  },
  {
   "cell_type": "markdown",
   "metadata": {},
   "source": [
    "## Bivariate Exploration\n",
    "\n",
    "How does the trip distribution vary between member and casual, electric bike, classic bike and docked bike?"
   ]
  },
  {
   "cell_type": "code",
   "execution_count": 21,
   "metadata": {},
   "outputs": [
    {
     "data": {
      "image/png": "[encoded data removed]",
      "text/plain": [
       "<Figure size 576x432 with 1 Axes>"
      ]
     },
     "metadata": {
      "needs_background": "light"
     },
     "output_type": "display_data"
    }
   ],
   "source": [
    "sns.violinplot(data=trips22, x='member_casual', y='duration_minute', color=base_color, inner='quartile')\n",
    "plt.xlabel('User Type')\n",
    "plt.ylabel('Trip Duration in Minute');"
   ]
  },
  {
   "cell_type": "markdown",
   "metadata": {},
   "source": [
    "The trip duration distribution is much narrower for members compared to casual riders on the longer trip end overall. It seems like members have a more specific usage or targeted goal riding the bikes compared to casual who rented the bikes for long."
   ]
  },
  {
   "cell_type": "markdown",
   "metadata": {},
   "source": [
    "How does the trips duratiion distribution vary by ride type?"
   ]
  },
  {
   "cell_type": "code",
   "execution_count": 22,
   "metadata": {},
   "outputs": [
    {
     "data": {
      "image/png": "[encoded data removed]",
      "text/plain": [
       "<Figure size 576x432 with 1 Axes>"
      ]
     },
     "metadata": {
      "needs_background": "light"
     },
     "output_type": "display_data"
    }
   ],
   "source": [
    "sns.boxplot(data=trips22, x='rideable_type', y='duration_minute', color=base_color)\n",
    "plt.xlabel('Ride Type')\n",
    "plt.ylabel('Trip Duration in Minute');"
   ]
  },
  {
   "cell_type": "markdown",
   "metadata": {},
   "source": [
    "Though slight difference between electric and classic bikes. Docked bikes have higher trips duration."
   ]
  },
  {
   "cell_type": "markdown",
   "metadata": {},
   "source": [
    "Average Trip Duration by Hours of the Day."
   ]
  },
  {
   "cell_type": "code",
   "execution_count": 23,
   "metadata": {},
   "outputs": [
    {
     "data": {
      "image/png": "[encoded data removed]",
      "text/plain": [
       "<Figure size 576x432 with 1 Axes>"
      ]
     },
     "metadata": {
      "needs_background": "light"
     },
     "output_type": "display_data"
    }
   ],
   "source": [
    "sns.barplot(data=trips22, x='start_hourofday', y='duration_minute', color=base_color)\n",
    "plt.xlabel('Hour of Day')\n",
    "plt.ylabel('Avg. Trip Duration in Minute');"
   ]
  },
  {
   "cell_type": "markdown",
   "metadata": {},
   "source": [
    "The riding trips are much shorted between 4am-9am with highest usage in 2am."
   ]
  },
  {
   "cell_type": "markdown",
   "metadata": {},
   "source": [
    "Average Trip Duration on Weekdays"
   ]
  },
  {
   "cell_type": "code",
   "execution_count": 24,
   "metadata": {},
   "outputs": [
    {
     "data": {
      "image/png": "[encoded data removed]",
      "text/plain": [
       "<Figure size 576x432 with 1 Axes>"
      ]
     },
     "metadata": {
      "needs_background": "light"
     },
     "output_type": "display_data"
    }
   ],
   "source": [
    "sns.barplot(data=trips22, x='start_dayofweek', y='duration_minute', color=base_color)\n",
    "plt.xlabel('Day of week')\n",
    "plt.ylabel('Avg. Trip Duration in Minute');"
   ]
  },
  {
   "cell_type": "markdown",
   "metadata": {},
   "source": [
    "The riding trips are much shorted on Monday through Friday compared to weekends. It indicates a stable and efficient usage of the sharing system  on normal work days, while more casual flexible use on weekends."
   ]
  },
  {
   "cell_type": "markdown",
   "metadata": {},
   "source": [
    "Average Trip Duration on Month"
   ]
  },
  {
   "cell_type": "code",
   "execution_count": 25,
   "metadata": {},
   "outputs": [
    {
     "data": {
      "image/png": "[encoded data removed]",
      "text/plain": [
       "<Figure size 576x432 with 1 Axes>"
      ]
     },
     "metadata": {
      "needs_background": "light"
     },
     "output_type": "display_data"
    }
   ],
   "source": [
    "sns.barplot(data=trips22, x='start_month', y='duration_minute', color=base_color)\n",
    "plt.xlabel('Month')\n",
    "plt.ylabel('Avg. Trip Duration in Minute');"
   ]
  },
  {
   "cell_type": "markdown",
   "metadata": {},
   "source": [
    "The average usage time show an increasing trend over the months from January to July with a decrease in August."
   ]
  },
  {
   "cell_type": "markdown",
   "metadata": {},
   "source": [
    "Weekly usage between members and casuals"
   ]
  },
  {
   "cell_type": "code",
   "execution_count": 26,
   "metadata": {},
   "outputs": [
    {
     "data": {
      "image/png": "[encoded data removed]",
      "text/plain": [
       "<Figure size 576x432 with 1 Axes>"
      ]
     },
     "metadata": {
      "needs_background": "light"
     },
     "output_type": "display_data"
    }
   ],
   "source": [
    "sns.countplot(data=trips22, x='start_dayofweek', hue='member_casual')\n",
    "plt.xlabel('Day of Week')\n",
    "plt.ylabel('Count');"
   ]
  },
  {
   "cell_type": "markdown",
   "metadata": {},
   "source": [
    "The difference between member and casual during weekdays is very large compared to weekend. Which signify members uses this bike sharing system as channel of commute to work places, with little usage at weekend."
   ]
  },
  {
   "cell_type": "markdown",
   "metadata": {},
   "source": [
    "Monthly usage between members and casuals"
   ]
  },
  {
   "cell_type": "code",
   "execution_count": 27,
   "metadata": {},
   "outputs": [
    {
     "data": {
      "image/png": "[encoded data removed]",
      "text/plain": [
       "<Figure size 576x432 with 1 Axes>"
      ]
     },
     "metadata": {
      "needs_background": "light"
     },
     "output_type": "display_data"
    }
   ],
   "source": [
    "sns.countplot(data=trips22, x='start_month', hue='member_casual')\n",
    "plt.xlabel('Day of Week')\n",
    "plt.ylabel('Count');"
   ]
  },
  {
   "cell_type": "markdown",
   "metadata": {},
   "source": [
    "The plot above shows the increasing pattern of trips with larger trips made by members."
   ]
  },
  {
   "cell_type": "markdown",
   "metadata": {},
   "source": [
    "### Talk about some of the relationships you observed in this part of the investigation. How did the feature(s) of interest vary with other features in the dataset?\n",
    "\n",
    "There are a lot of member than casual users and the riding habit varies alot between both user type. Members uses the bike sharing system for work commute thus having low average trip between on work days (Mon-Fri) whereas casual tends to ride for fun especially over the weekend. \n",
    "\n",
    "\n",
    "### Did you observe any interesting relationships between the other features (not the main feature(s) of interest)?\n",
    "\n",
    "It is interesting to see that docked bike type have higher average trip duration with little difference in electric and classic bikes."
   ]
  },
  {
   "cell_type": "markdown",
   "metadata": {},
   "source": [
    "## Multivariate Exploration\n",
    "\n",
    "How does the average trip duration vary between member and casual, and ride type"
   ]
  },
  {
   "cell_type": "code",
   "execution_count": 28,
   "metadata": {},
   "outputs": [
    {
     "data": {
      "image/png": "[encoded data removed]",
      "text/plain": [
       "<Figure size 576x432 with 1 Axes>"
      ]
     },
     "metadata": {
      "needs_background": "light"
     },
     "output_type": "display_data"
    }
   ],
   "source": [
    "sns.pointplot(data=trips22, x='start_dayofweek', y='duration_minute', hue='member_casual', dodge=0.3, linestyles='')\n",
    "plt.xlabel('Day of Week')\n",
    "plt.ylabel('Avg. Trip Duration in Minute');"
   ]
  },
  {
   "cell_type": "markdown",
   "metadata": {},
   "source": [
    "It can be seen from the above plot that members ride much shorter/quicker trips compared to casual  on each day of the week. Both user types have decrease trip duration trend between Monday to Thursday and increase between Thursday to Sunday."
   ]
  },
  {
   "cell_type": "code",
   "execution_count": 29,
   "metadata": {},
   "outputs": [
    {
     "data": {
      "image/png": "[encoded data removed]",
      "text/plain": [
       "<Figure size 576x432 with 1 Axes>"
      ]
     },
     "metadata": {
      "needs_background": "light"
     },
     "output_type": "display_data"
    }
   ],
   "source": [
    "sns.pointplot(data=trips22, x='start_dayofweek', y='duration_minute', hue='rideable_type', dodge=0.3, linestyles='')\n",
    "plt.xlabel('Ride Type')\n",
    "plt.ylabel('Avg. Trip Duration in Minute');"
   ]
  },
  {
   "cell_type": "markdown",
   "metadata": {},
   "source": [
    "From the above plot, docked bikes high avearge trip duration compared with to classic and elcectric bikes with little differnce between both."
   ]
  },
  {
   "cell_type": "markdown",
   "metadata": {},
   "source": [
    "### Talk about some of the relationships you observed in this part of the investigation. Were there features that strengthened each other in terms of looking at your feature(s) of interest?\n",
    "\n",
    "The multivariate exploration strengthened some of the patterns discovered in the previous bivariate exploration as well as univariate exploration, the relationship between the multiple variables plotted are visualized altogether and information are presented combined. The short and efficient period of usage  for member between Monday through Friday indicate the use primarily for work commute. The more higher and flexible pattern of casual use shows that they are taking advantage of the bike sharing system quite differntly heavily over the weekends for city tour or leisure purposs probably.\n",
    "\n",
    "### Were there any interesting or surprising interactions between features?\n",
    "\n",
    "The interactions between features are all suplementing each other and quite make sense when looked at combined. There is no big surprised, except for high average trip duration of docked bikes compared to the electric and classic bikes."
   ]
  },
  {
   "cell_type": "code",
   "execution_count": null,
   "metadata": {},
   "outputs": [],
   "source": []
  }
 ],
 "metadata": {
  "kernelspec": {
   "display_name": "Python [conda env:da_env]",
   "language": "python",
   "name": "conda-env-da_env-py"
  },
  "language_info": {
   "codemirror_mode": {
    "name": "ipython",
    "version": 3
   },
   "file_extension": ".py",
   "mimetype": "text/x-python",
   "name": "python",
   "nbconvert_exporter": "python",
   "pygments_lexer": "ipython3",
   "version": "3.10.4"
  }
 },
 "nbformat": 4,
 "nbformat_minor": 2
}
